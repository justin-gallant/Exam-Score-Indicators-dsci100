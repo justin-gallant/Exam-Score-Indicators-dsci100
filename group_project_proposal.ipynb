{
 "cells": [
  {
   "cell_type": "markdown",
   "id": "24ae0cdd-9ebf-412f-8b37-626739daf3d5",
   "metadata": {},
   "source": [
    "# TITLE\n",
    "\n",
    "### SUBTITLE\n",
    "\n",
    "#### Justin Gallant, Megan Lee, Jessy Lin\n",
    "Please correct spelling if I messed it up"
   ]
  },
  {
   "cell_type": "markdown",
   "id": "04f86881-5b79-4d41-9ee7-8cce9dc34433",
   "metadata": {},
   "source": [
    "### Introduction"
   ]
  },
  {
   "cell_type": "markdown",
   "id": "08d9ec8a-74e3-4816-814a-44b1622d3788",
   "metadata": {},
   "source": [
    "Textbox"
   ]
  },
  {
   "cell_type": "markdown",
   "id": "41fe225d-79b3-4ab7-96cc-d84270f05861",
   "metadata": {},
   "source": [
    "### Preliminary Exploratory Analysis"
   ]
  },
  {
   "cell_type": "markdown",
   "id": "5863097c-a25f-43b5-8a91-6e31f462749d",
   "metadata": {},
   "source": [
    "Textbox"
   ]
  },
  {
   "cell_type": "markdown",
   "id": "333edadb-5dd8-4240-bbb8-6b492626a168",
   "metadata": {},
   "source": [
    "### Methods"
   ]
  },
  {
   "cell_type": "markdown",
   "id": "1fd1d0d5-9a2a-41f5-93ae-04d9edc6243a",
   "metadata": {},
   "source": [
    "Textbox"
   ]
  },
  {
   "cell_type": "markdown",
   "id": "638e2f86-0ac5-4254-bfc1-5e556349175b",
   "metadata": {},
   "source": [
    "### Expected Outcomes and Significance"
   ]
  },
  {
   "cell_type": "markdown",
   "id": "f211fbd6-28b1-4330-a0a5-cb4d23e8ddba",
   "metadata": {},
   "source": [
    "Textbox"
   ]
  }
 ],
 "metadata": {
  "kernelspec": {
   "display_name": "R",
   "language": "R",
   "name": "ir"
  },
  "language_info": {
   "codemirror_mode": "r",
   "file_extension": ".r",
   "mimetype": "text/x-r-source",
   "name": "R",
   "pygments_lexer": "r",
   "version": "4.1.3"
  }
 },
 "nbformat": 4,
 "nbformat_minor": 5
}
